{
 "cells": [
  {
   "cell_type": "code",
   "execution_count": 2,
   "id": "a75ceae9-6297-4ae7-880c-d5bf9331197c",
   "metadata": {},
   "outputs": [],
   "source": [
    "#Q1\n",
    "#Abstraction is used to create a blueprint of a class.\n",
    "\n",
    "import abc\n",
    "\n",
    "class class1:\n",
    "    @abc.abstractmethod\n",
    "    def student_details(self):\n",
    "        pass\n",
    "    \n",
    "    @abc.abstractmethod\n",
    "    def student_assignment(self):\n",
    "        pass\n",
    "    \n",
    "    @abc.abstractmethod\n",
    "    def student_marks(self):\n",
    "        pass"
   ]
  },
  {
   "cell_type": "code",
   "execution_count": 10,
   "id": "73157a4d-ded7-4f9d-86bc-02897ede4754",
   "metadata": {},
   "outputs": [],
   "source": [
    "class class2(class1):\n",
    "    def student_details(self):\n",
    "        print(\"This is student details\")\n",
    "        \n",
    "    def student_assignment(self):\n",
    "        print(\"This is student assignment\")"
   ]
  },
  {
   "cell_type": "code",
   "execution_count": 11,
   "id": "f41c0645-6baa-41ed-b0c4-f2693b8aed35",
   "metadata": {},
   "outputs": [],
   "source": [
    "obj1 = class2()"
   ]
  },
  {
   "cell_type": "code",
   "execution_count": 12,
   "id": "90202628-5d7f-4cdd-9129-fc6be3b42284",
   "metadata": {},
   "outputs": [
    {
     "name": "stdout",
     "output_type": "stream",
     "text": [
      "This is student details\n"
     ]
    }
   ],
   "source": [
    "obj1.student_details()"
   ]
  },
  {
   "cell_type": "code",
   "execution_count": 21,
   "id": "999e3dd0-d5db-4e65-a07b-69d9e3531a4c",
   "metadata": {},
   "outputs": [],
   "source": [
    "#Q2\n",
    "#Abstraction is to create a blueprint of a class with the help of abstraction methods whereas,\n",
    "#on the other hand, Encapsulation is to hide the irreleavant information from the user and\n",
    "#only showing the information only needed.\n",
    "\n",
    "#abstraction is being explained with the help of example in the previous question\n",
    "\n",
    "#Example for Encapsulation is as follows:\n",
    "\n",
    "class class1:\n",
    "    def __init__(self,make,model,speed):\n",
    "        self.__make = make\n",
    "        self.__model = model\n",
    "        self.__speed = speed\n",
    "        \n",
    "    def set_speed(self,speed):\n",
    "        if speed<self.__speed:\n",
    "            self.__speed\n",
    "        else:\n",
    "            self.__speed = speed\n",
    "    def get_speed(self):\n",
    "        return self.__speed"
   ]
  },
  {
   "cell_type": "code",
   "execution_count": 22,
   "id": "557d050b-c891-4efe-bd01-52779d76f5fd",
   "metadata": {},
   "outputs": [],
   "source": [
    "car1 = class1(2017,\"E Class\",120)"
   ]
  },
  {
   "cell_type": "code",
   "execution_count": 25,
   "id": "0c110032-c714-44ba-a2c3-67da36e9a117",
   "metadata": {},
   "outputs": [
    {
     "data": {
      "text/plain": [
       "120"
      ]
     },
     "execution_count": 25,
     "metadata": {},
     "output_type": "execute_result"
    }
   ],
   "source": [
    "car1.set_speed(100)\n",
    "car1.get_speed()"
   ]
  },
  {
   "cell_type": "code",
   "execution_count": 26,
   "id": "91aa97e4-780e-4b4c-94af-71b8fd3784d9",
   "metadata": {},
   "outputs": [
    {
     "data": {
      "text/plain": [
       "140"
      ]
     },
     "execution_count": 26,
     "metadata": {},
     "output_type": "execute_result"
    }
   ],
   "source": [
    "car1.set_speed(140)\n",
    "car1.get_speed()"
   ]
  },
  {
   "cell_type": "code",
   "execution_count": 27,
   "id": "00c04639-d216-4b42-a6f9-876b0ac56a99",
   "metadata": {},
   "outputs": [],
   "source": [
    "#Q3\n",
    "#abc module in python is used to create with help of multiple methods inside this module, one of them \n",
    "#has been used earlier in this assignment to show the creation of the blueprint of a class."
   ]
  },
  {
   "cell_type": "code",
   "execution_count": 28,
   "id": "85b0753b-774d-483e-a651-b7fdc08de4d9",
   "metadata": {},
   "outputs": [],
   "source": [
    "#Data Abstraction can be acheived by importing the tools for abract class creation 'abc',\n",
    "#methods inside 'abc' can be used to achieve Data Abstraction."
   ]
  },
  {
   "cell_type": "code",
   "execution_count": null,
   "id": "c71034de-261d-4006-b78d-1b49bd6b829c",
   "metadata": {},
   "outputs": [],
   "source": []
  }
 ],
 "metadata": {
  "kernelspec": {
   "display_name": "Python 3 (ipykernel)",
   "language": "python",
   "name": "python3"
  },
  "language_info": {
   "codemirror_mode": {
    "name": "ipython",
    "version": 3
   },
   "file_extension": ".py",
   "mimetype": "text/x-python",
   "name": "python",
   "nbconvert_exporter": "python",
   "pygments_lexer": "ipython3",
   "version": "3.10.8"
  }
 },
 "nbformat": 4,
 "nbformat_minor": 5
}
